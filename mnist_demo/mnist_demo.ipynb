{
 "cells": [
  {
   "cell_type": "markdown",
   "metadata": {},
   "source": [
    "## Outline\n",
    "\n",
    "1. Import plda and other convenient packages.\n",
    "2. Load data.\n",
    "3. Preprocess data.\n",
    "4. Fit model.\n",
    "5. __How to classify datapoints: Overfit classifier__.\n",
    "6. __How to classify datapoints: Better-fit classifier__.\n",
    "7. Extracting LDA-features.\n",
    "8. __How to classify datapoints: \"same-or-different category\" discrimination__.\n",
    "9. Extracting preprocessing information.\n",
    "10. Extracting model parameters."
   ]
  },
  {
   "cell_type": "markdown",
   "metadata": {},
   "source": [
    "## Import plda and other convenient packages."
   ]
  },
  {
   "cell_type": "code",
   "execution_count": 1,
   "metadata": {},
   "outputs": [],
   "source": [
    "import matplotlib.pyplot as plt\n",
    "import numpy as np\n",
    "import plda\n",
    "\n",
    "%matplotlib inline"
   ]
  },
  {
   "cell_type": "markdown",
   "metadata": {},
   "source": [
    "## Load Data."
   ]
  },
  {
   "cell_type": "code",
   "execution_count": 2,
   "metadata": {},
   "outputs": [],
   "source": [
    "# To minimize the size of this repository, I only provide 200 training and 100 testing images.\n",
    "training_data = np.load('mnist_data/mnist_train_images.npy')\n",
    "training_labels = np.load('mnist_data/mnist_train_labels.npy')\n",
    "testing_data = np.load('mnist_data/mnist_test_images.npy')\n",
    "testing_labels = np.load('mnist_data/mnist_test_labels.npy')"
   ]
  },
  {
   "cell_type": "code",
   "execution_count": 3,
   "metadata": {
    "scrolled": false
   },
   "outputs": [
    {
     "name": "stdout",
     "output_type": "stream",
     "text": [
      "(200, 784) (200,)\n",
      "(100, 784) (100,)\n"
     ]
    }
   ],
   "source": [
    "print(training_data.shape, training_labels.shape)\n",
    "print(testing_data.shape, testing_labels.shape)"
   ]
  },
  {
   "cell_type": "code",
   "execution_count": 4,
   "metadata": {
    "scrolled": true
   },
   "outputs": [
    {
     "data": {
      "image/png": "[encoded data removed]",
      "text/plain": [
       "<Figure size 720x144 with 5 Axes>"
      ]
     },
     "metadata": {},
     "output_type": "display_data"
    }
   ],
   "source": [
    "n_examples = 5\n",
    "fig, ax_arr = plt.subplots(1, n_examples, figsize=(10, 2))\n",
    "\n",
    "for x in range(n_examples):\n",
    "    ax_arr[x].imshow(training_data[x].reshape(28, 28), cmap='gray')\n",
    "    ax_arr[x].set_xticks([])\n",
    "    ax_arr[x].set_yticks([])\n",
    "plt.show()"
   ]
  },
  {
   "cell_type": "markdown",
   "metadata": {},
   "source": [
    "## Preprocess data.\n",
    "\n",
    "You have 3 options.\n",
    "\n",
    "1. Default: keep as many principal components as possible (i.e. overfit).See `plda.Model.fit()`) for details.\n",
    "2. Optional: specify a smaller number of desired principal components to use (potentially reduces overfitting).\n",
    "3. Alternatively, you can preprocess the data yourself before passing it to this model."
   ]
  },
  {
   "cell_type": "markdown",
   "metadata": {},
   "source": [
    "## How to classify datapoints: Overfit classifier."
   ]
  },
  {
   "cell_type": "code",
   "execution_count": 5,
   "metadata": {},
   "outputs": [
    {
     "name": "stdout",
     "output_type": "stream",
     "text": [
      "Accuracy: 0.28\n"
     ]
    }
   ],
   "source": [
    "overfit_classifier = plda.Classifier()\n",
    "\n",
    "# Use as many principal components as possible.\n",
    "overfit_classifier.fit_model(training_data, training_labels)\n",
    "\n",
    "predictions, log_p_predictions = overfit_classifier.predict(testing_data)\n",
    "\n",
    "# Overfit:\n",
    "#  Ratio of avg. sample size to data dimension is very small\n",
    "#  (about ~20 / 200 = ~.2).\n",
    "print('Accuracy: {}'.format((testing_labels == predictions).mean()))"
   ]
  },
  {
   "cell_type": "code",
   "execution_count": 6,
   "metadata": {},
   "outputs": [
    {
     "data": {
      "image/png": "[encoded data removed]",
      "text/plain": [
       "<Figure size 1440x144 with 10 Axes>"
      ]
     },
     "metadata": {},
     "output_type": "display_data"
    }
   ],
   "source": [
    "n_examples = 10\n",
    "fig, ax_arr = plt.subplots(1, n_examples, figsize=(20, 2))\n",
    "\n",
    "for x in range(n_examples):\n",
    "    ax_arr[x].imshow(testing_data[x].reshape(28, 28), cmap='gray')\n",
    "    ax_arr[x].set_xticks([])\n",
    "    ax_arr[x].set_yticks([])\n",
    "    title = 'Prediction: {}'\n",
    "    xlabel = 'Truth: {}'\n",
    "    ax_arr[x].set_title(title.format(predictions[x]))\n",
    "    ax_arr[x].set_xlabel(xlabel.format(testing_labels[x]))\n",
    "plt.show()"
   ]
  },
  {
   "cell_type": "markdown",
   "metadata": {},
   "source": [
    "## How to classify datapoints: Better-fit classifier."
   ]
  },
  {
   "cell_type": "code",
   "execution_count": 7,
   "metadata": {},
   "outputs": [
    {
     "name": "stdout",
     "output_type": "stream",
     "text": [
      "Accuracy: 0.54\n"
     ]
    }
   ],
   "source": [
    "better_classifier = plda.Classifier()\n",
    "\n",
    "# Use the 5 top principal components to reduce overfitting.\n",
    "# This will preprocess training data from shape (200, 784) to (200, 5).\n",
    "better_classifier.fit_model(training_data, training_labels, n_principal_components=5)\n",
    "\n",
    "predictions, log_p_predictions = better_classifier.predict(testing_data)\n",
    "print('Accuracy: {}'.format((testing_labels == predictions).mean()))"
   ]
  },
  {
   "cell_type": "code",
   "execution_count": 8,
   "metadata": {},
   "outputs": [
    {
     "data": {
      "image/png": "[encoded data removed]",
      "text/plain": [
       "<Figure size 1440x144 with 10 Axes>"
      ]
     },
     "metadata": {},
     "output_type": "display_data"
    }
   ],
   "source": [
    "n_examples = 10\n",
    "fig, ax_arr = plt.subplots(1, n_examples, figsize=(20, 2))\n",
    "\n",
    "for x in range(n_examples):\n",
    "    ax_arr[x].imshow(testing_data[x].reshape(28, 28), cmap='gray')\n",
    "    ax_arr[x].set_xticks([])\n",
    "    ax_arr[x].set_yticks([])\n",
    "    title = 'Prediction: {}'\n",
    "    xlabel = 'Truth: {}'\n",
    "    ax_arr[x].set_title(title.format(predictions[x]))\n",
    "    ax_arr[x].set_xlabel(xlabel.format(testing_labels[x]))\n",
    "plt.show()"
   ]
  },
  {
   "cell_type": "markdown",
   "metadata": {},
   "source": [
    "## Extracting LDA features.\n",
    "There are 4 \"spaces\" that result from the transformations the model performs:\n",
    "1. Data space ('D'),\n",
    "2. Preprocessed data space ('X'),\n",
    "3. Latent space ('U'), and\n",
    "4. The \"effective\" space of the latent space ('U_model'), \n",
    "    which is essentially the set of dimensions the model actually uses for prediction.\n",
    "\n",
    "You can transform data between these spaces using the `classifier.model.transform()` function."
   ]
  },
  {
   "cell_type": "code",
   "execution_count": 9,
   "metadata": {},
   "outputs": [
    {
     "name": "stdout",
     "output_type": "stream",
     "text": [
      "(200, 784)\n",
      "(200, 5)\n"
     ]
    }
   ],
   "source": [
    "U_model = better_classifier.model.transform(training_data, from_space='D', to_space='U_model')\n",
    "\n",
    "print(training_data.shape)\n",
    "print(U_model.shape)"
   ]
  },
  {
   "cell_type": "code",
   "execution_count": 10,
   "metadata": {},
   "outputs": [
    {
     "name": "stdout",
     "output_type": "stream",
     "text": [
      "(200, 5)\n",
      "(200, 784)\n"
     ]
    }
   ],
   "source": [
    "D = better_classifier.model.transform(U_model, from_space='U_model', to_space='D')\n",
    "\n",
    "print(U_model.shape)\n",
    "print(D.shape)"
   ]
  },
  {
   "cell_type": "markdown",
   "metadata": {},
   "source": [
    "## How to classify datapoints: same-different discrimination.\n",
    "\n",
    "These are log-ratios, which means:\n",
    "- negative values mean that the model believes the two data points being compared are from two different categories.\n",
    "- positive values mean that the model believes the two data points are from the same category."
   ]
  },
  {
   "cell_type": "code",
   "execution_count": 11,
   "metadata": {},
   "outputs": [
    {
     "name": "stdout",
     "output_type": "stream",
     "text": [
      "-4.789895528529964\n"
     ]
    }
   ],
   "source": [
    "U_datum_0 = U_model[0][None,]\n",
    "U_datum_1 = U_model[1][None,]\n",
    "\n",
    "log_ratio_0_1 = better_classifier.model.calc_same_diff_log_likelihood_ratio(U_datum_0, U_datum_1)\n",
    "\n",
    "print(log_ratio_0_1)"
   ]
  },
  {
   "cell_type": "code",
   "execution_count": 12,
   "metadata": {},
   "outputs": [
    {
     "name": "stdout",
     "output_type": "stream",
     "text": [
      "1.0497243023272294\n"
     ]
    }
   ],
   "source": [
    "U_datum_2 = U_model[2][None,]\n",
    "U_datum_5 = U_model[5][None,]\n",
    "\n",
    "log_ratio_2_5 = better_classifier.model.calc_same_diff_log_likelihood_ratio(U_datum_2, U_datum_5)\n",
    "\n",
    "print(log_ratio_2_5)"
   ]
  },
  {
   "cell_type": "code",
   "execution_count": 13,
   "metadata": {},
   "outputs": [
    {
     "data": {
      "image/png": "[encoded data removed]",
      "text/plain": [
       "<Figure size 360x540 with 4 Axes>"
      ]
     },
     "metadata": {},
     "output_type": "display_data"
    }
   ],
   "source": [
    "n_examples = 4\n",
    "fig, ax_arr = plt.subplots(int(n_examples / 2), 2, figsize=(5, 7.5))\n",
    "\n",
    "for x, ax in enumerate(ax_arr.flat):\n",
    "    ax.imshow(testing_data[[0, 1, 2, 5]][x].reshape(28, 28), cmap='gray')\n",
    "    ax.set_xticks([])\n",
    "    ax.set_yticks([])\n",
    "\n",
    "    xlabel = 'Truth: {}'\n",
    "    ax.set_xlabel(xlabel.format(testing_labels[[0, 1, 2, 5]][x]))\n",
    "    \n",
    "ax_arr[0, 0].set_title(\"logRatio = {}\".format(round(log_ratio_0_1, 4)),\n",
    "                        fontsize=16)\n",
    "ax_arr[1, 0].set_title(\"logRatio = {}\".format(round(log_ratio_2_5, 4)),\n",
    "                        fontsize=16)\n",
    "\n",
    "fig.suptitle(\"Positive ratio: Same category. Negative Ratio: Different categories.\",\n",
    "             x=.5, y=.95, fontsize=16)\n",
    "\n",
    "fig.tight_layout()"
   ]
  },
  {
   "cell_type": "markdown",
   "metadata": {},
   "source": [
    "## Getting PCA Preprocessing information"
   ]
  },
  {
   "cell_type": "code",
   "execution_count": 14,
   "metadata": {},
   "outputs": [
    {
     "data": {
      "text/plain": [
       "sklearn.decomposition.pca.PCA"
      ]
     },
     "execution_count": 14,
     "metadata": {},
     "output_type": "execute_result"
    }
   ],
   "source": [
    "type(better_classifier.model.pca)  # Check out the sklean documentation."
   ]
  },
  {
   "cell_type": "code",
   "execution_count": 15,
   "metadata": {},
   "outputs": [
    {
     "data": {
      "text/plain": [
       "PCA(copy=True, iterated_power='auto', n_components=5, random_state=None,\n",
       "  svd_solver='auto', tol=0.0, whiten=False)"
      ]
     },
     "execution_count": 15,
     "metadata": {},
     "output_type": "execute_result"
    }
   ],
   "source": [
    "better_classifier.model.pca"
   ]
  },
  {
   "cell_type": "code",
   "execution_count": 16,
   "metadata": {},
   "outputs": [
    {
     "data": {
      "text/plain": [
       "784"
      ]
     },
     "execution_count": 16,
     "metadata": {},
     "output_type": "execute_result"
    }
   ],
   "source": [
    "better_classifier.model.pca.n_features_  # Original dimensionality."
   ]
  },
  {
   "cell_type": "code",
   "execution_count": 17,
   "metadata": {},
   "outputs": [
    {
     "data": {
      "text/plain": [
       "5"
      ]
     },
     "execution_count": 17,
     "metadata": {},
     "output_type": "execute_result"
    }
   ],
   "source": [
    "better_classifier.model.pca.n_components  # Preprocessed dimensionality"
   ]
  },
  {
   "cell_type": "markdown",
   "metadata": {},
   "source": [
    "## Parameters fitted via Empirical Bayes.\n",
    "This is like maximum likelihood estimation in that you're guessing the parameters of your prior using data."
   ]
  },
  {
   "cell_type": "code",
   "execution_count": 18,
   "metadata": {},
   "outputs": [],
   "source": [
    "Psi = better_classifier.model.Psi\n",
    "A = better_classifier.model.A\n",
    "inv_A = better_classifier.model.inv_A\n",
    "m = better_classifier.model.m\n",
    "\n",
    "# Indices of the subspace used for classification.\n",
    "relevant_U_dims = better_classifier.model.relevant_U_dims"
   ]
  },
  {
   "cell_type": "markdown",
   "metadata": {},
   "source": [
    "__Prior__."
   ]
  },
  {
   "cell_type": "code",
   "execution_count": 19,
   "metadata": {
    "scrolled": true
   },
   "outputs": [
    {
     "data": {
      "text/plain": [
       "dict_keys(['mean', 'cov_diag'])"
      ]
     },
     "execution_count": 19,
     "metadata": {},
     "output_type": "execute_result"
    }
   ],
   "source": [
    "better_classifier.model.prior_params.keys()"
   ]
  },
  {
   "cell_type": "markdown",
   "metadata": {},
   "source": [
    "__Posterior__"
   ]
  },
  {
   "cell_type": "code",
   "execution_count": 20,
   "metadata": {
    "scrolled": true
   },
   "outputs": [
    {
     "data": {
      "text/plain": [
       "dict_keys([0, 1, 2, 3, 4, 5, 6, 7, 8, 9])"
      ]
     },
     "execution_count": 20,
     "metadata": {},
     "output_type": "execute_result"
    }
   ],
   "source": [
    "better_classifier.model.posterior_params.keys()"
   ]
  },
  {
   "cell_type": "code",
   "execution_count": 21,
   "metadata": {},
   "outputs": [
    {
     "data": {
      "text/plain": [
       "dict_keys(['mean', 'cov_diag'])"
      ]
     },
     "execution_count": 21,
     "metadata": {},
     "output_type": "execute_result"
    }
   ],
   "source": [
    "# Posterior parameters for a category.\n",
    "better_classifier.model.posterior_params[0].keys()"
   ]
  },
  {
   "cell_type": "markdown",
   "metadata": {},
   "source": [
    "__Posterior Predictive__"
   ]
  },
  {
   "cell_type": "code",
   "execution_count": 22,
   "metadata": {},
   "outputs": [
    {
     "data": {
      "text/plain": [
       "dict_keys([0, 1, 2, 3, 4, 5, 6, 7, 8, 9])"
      ]
     },
     "execution_count": 22,
     "metadata": {},
     "output_type": "execute_result"
    }
   ],
   "source": [
    "# Categories in the training data.\n",
    "better_classifier.model.posterior_predictive_params.keys()"
   ]
  },
  {
   "cell_type": "code",
   "execution_count": 23,
   "metadata": {},
   "outputs": [
    {
     "data": {
      "text/plain": [
       "dict_keys(['mean', 'cov_diag'])"
      ]
     },
     "execution_count": 23,
     "metadata": {},
     "output_type": "execute_result"
    }
   ],
   "source": [
    "# Parameters for a category.\n",
    "better_classifier.model.posterior_predictive_params[0].keys()"
   ]
  }
 ],
 "metadata": {
  "kernelspec": {
   "display_name": "Python [conda env:plda] *",
   "language": "python",
   "name": "conda-env-plda-py"
  },
  "language_info": {
   "codemirror_mode": {
    "name": "ipython",
    "version": 3
   },
   "file_extension": ".py",
   "mimetype": "text/x-python",
   "name": "python",
   "nbconvert_exporter": "python",
   "pygments_lexer": "ipython3",
   "version": "3.6.10"
  },
  "widgets": {
   "state": {},
   "version": "1.1.2"
  }
 },
 "nbformat": 4,
 "nbformat_minor": 2
}
